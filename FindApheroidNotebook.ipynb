{
 "cells": [
  {
   "cell_type": "code",
   "execution_count": null,
   "metadata": {},
   "outputs": [],
   "source": [
    "import os\n",
    "import sys\n",
    "import tqdm\n",
    "import numpy as np\n",
    "import pandas\n",
    "\n",
    "from tqdm import tqdm_notebook as tqdm\n",
    "from pims_nd2 import ND2_Reader\n",
    "from scipy.ndimage import gaussian_filter\n",
    "\n",
    "import matplotlib.pyplot as plt\n",
    "\n",
    "import cv2\n",
    "from numpy import unravel_index"
   ]
  },
  {
   "cell_type": "markdown",
   "metadata": {},
   "source": [
    "## Cell tracking and identification\n",
    "\n",
    "We analyze the images starting from the raw images. They are arganized in the following order:\n",
    "\n",
    " - experiment\n",
    " - well no.\n",
    " - channel no.\n",
    " \n",
    "We call them from the trackingparr function."
   ]
  },
  {
   "cell_type": "markdown",
   "metadata": {},
   "source": []
  },
  {
   "cell_type": "code",
   "execution_count": null,
   "metadata": {},
   "outputs": [],
   "source": [
    "from nd2reader import ND2Reader"
   ]
  },
  {
   "cell_type": "markdown",
   "metadata": {},
   "source": [
    "## Spheroid segmentation\n",
    "\n",
    "Initial step is to retrieve spheroid coords so that we can compare them to the cell displacements and classify them. The first set of functions are workhouse functions to identify the well center and then crop away the left-over data points.\n",
    "\n",
    "This function saves all the files at the destination indicated in the SAVEPATH."
   ]
  },
  {
   "cell_type": "code",
   "execution_count": null,
   "metadata": {},
   "outputs": [],
   "source": [
    "import DetermineCellState\n",
    "\n",
    "DATAPATH = r'\\\\atlas.pasteur.fr\\Multicell\\Shreyansh\\20191017\\exp_matrigel_conc_Tcell_B16\\50pc\\TIFF\\DataFrames'\n",
    "PATH = r'\\\\atlas.pasteur.fr\\Multicell\\Shreyansh\\20191017\\exp_matrigel_conc_Tcell_B16\\50pc\\TIFF'\n",
    "SAVEPATH = r'C:\\Users\\gronteix\\Documents\\Research\\SpheroidPositionAnalysis\\20191017\\B1650pcMatrigel' \n",
    "\n",
    "wellDiameter = 440\n",
    "marginDistance = 160\n",
    "aspectRatio = 3\n",
    "CHANNEL = '2'\n",
    "\n",
    "DetermineCellState._loopThroughExperiments(PATH, DATAPATH, SAVEPATH, CHANNEL, wellDiameter, marginDistance, aspectRatio)"
   ]
  }
 ],
 "metadata": {
  "kernelspec": {
   "display_name": "Python 3",
   "language": "python",
   "name": "python3"
  },
  "language_info": {
   "codemirror_mode": {
    "name": "ipython",
    "version": 3
   },
   "file_extension": ".py",
   "mimetype": "text/x-python",
   "name": "python",
   "nbconvert_exporter": "python",
   "pygments_lexer": "ipython3",
   "version": "3.7.0"
  }
 },
 "nbformat": 4,
 "nbformat_minor": 2
}
