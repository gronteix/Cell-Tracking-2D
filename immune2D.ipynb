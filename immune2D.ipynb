{
 "cells": [
  {
   "cell_type": "code",
   "execution_count": null,
   "metadata": {},
   "outputs": [],
   "source": [
    "import numpy as np\n",
    "import pandas\n",
    "from pandas import DataFrame, Series  # for convenience\n",
    "import scipy.misc\n",
    "import pims\n",
    "import trackpy as tp\n",
    "from tqdm import tqdm_notebook as tqdm\n",
    "import glob\n",
    "import os\n",
    "from skimage import io\n",
    "import pandas as pd"
   ]
  },
  {
   "cell_type": "code",
   "execution_count": null,
   "metadata": {},
   "outputs": [],
   "source": [
    "from __future__ import division, unicode_literals, print_function  # for compatibility with Python 2 and 3\n",
    "\n",
    "import matplotlib as mpl\n",
    "import matplotlib.pyplot as plt\n",
    "\n",
    "# change the following to %matplotlib notebook for interactive plotting\n",
    "%matplotlib inline\n",
    "\n",
    "# Optionally, tweak styles.\n",
    "mpl.rc('figure',  figsize=(10, 6))\n",
    "mpl.rc('image', cmap='gray')"
   ]
  },
  {
   "cell_type": "markdown",
   "metadata": {},
   "source": [
    "### IMAGE ANALYSIS\n",
    "\n",
    "We now use the Trackpy library to follow the individual immune cells as they move on the well plate."
   ]
  },
  {
   "cell_type": "code",
   "execution_count": null,
   "metadata": {},
   "outputs": [],
   "source": [
    "frames = pims.ImageSequence(r'\\\\atlas.pasteur.fr\\Multicell\\Shreyansh\\20191017\\exp_matrigel_conc_Tcell_B16\\50pc\\TIFF\\exp_03\\1\\*.tif', as_grey=True)\n",
    "\n",
    "framesOr = pims.ImageSequence(r'\\\\atlas.pasteur.fr\\Multicell\\Shreyansh\\20191017\\exp_matrigel_conc_Tcell_B16\\50pc\\TIFF\\exp_03\\2\\*.tif', as_grey=True)"
   ]
  },
  {
   "cell_type": "code",
   "execution_count": null,
   "metadata": {},
   "outputs": [],
   "source": [
    "sizeReal = 10\n",
    "minmass =5000\n",
    "distanceReal = 40\n",
    "pxtoum = 0.33\n",
    "\n",
    "distance = distanceReal/pxtoum\n",
    "size = ((sizeReal/pxtoum)//2)*2+1"
   ]
  },
  {
   "cell_type": "code",
   "execution_count": null,
   "metadata": {},
   "outputs": [],
   "source": [
    "f = tp.locate(frames[250], size, invert=False, separation = size, minmass = minmass)\n",
    "\n",
    "fig = plt.subplots(figsize = (10,10))\n",
    "tp.annotate(f, frames[250])"
   ]
  }
 ],
 "metadata": {
  "kernelspec": {
   "display_name": "Python 3",
   "language": "python",
   "name": "python3"
  },
  "language_info": {
   "codemirror_mode": {
    "name": "ipython",
    "version": 3
   },
   "file_extension": ".py",
   "mimetype": "text/x-python",
   "name": "python",
   "nbconvert_exporter": "python",
   "pygments_lexer": "ipython3",
   "version": "3.7.0"
  }
 },
 "nbformat": 4,
 "nbformat_minor": 2
}
